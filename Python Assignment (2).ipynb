{
 "cells": [
  {
   "cell_type": "code",
   "execution_count": 3,
   "id": "9bde6dac-0b06-4f3a-9624-212696e085b3",
   "metadata": {},
   "outputs": [
    {
     "name": "stdout",
     "output_type": "stream",
     "text": [
      "sum is: 55\n"
     ]
    }
   ],
   "source": [
    "# Python Assignment\n",
    "# Q1 Find the sum of first 10 natural number?\n",
    "i=1\n",
    "x=0\n",
    "while i<=10:\n",
    "    x=x+i\n",
    "    i+=1\n",
    "print(\"sum is:\",x)"
   ]
  },
  {
   "cell_type": "code",
   "execution_count": 4,
   "id": "bb82fc5d-3aca-4cf7-8c20-ddad911da018",
   "metadata": {},
   "outputs": [
    {
     "name": "stdin",
     "output_type": "stream",
     "text": [
      "enter a year to check year is leap or not : 2024\n"
     ]
    },
    {
     "name": "stdout",
     "output_type": "stream",
     "text": [
      "year is leap\n"
     ]
    }
   ],
   "source": [
    "# Q2 Check leap year or not?\n",
    "y=int(input(\"enter a year to check year is leap or not :\"))\n",
    "if (y%100 !=0 and y%4 == 0) or y%400==0:\n",
    "    print(\"year is leap\")\n",
    "else:\n",
    "    print(\"not leap year\")"
   ]
  },
  {
   "cell_type": "code",
   "execution_count": 6,
   "id": "98fcd60d-153d-4bb6-94f8-5ef54a34fbf8",
   "metadata": {},
   "outputs": [
    {
     "name": "stdout",
     "output_type": "stream",
     "text": [
      "product is 120\n"
     ]
    }
   ],
   "source": [
    "# Q3 Find the product of first 5 natural number?\n",
    "i=1\n",
    "pr=1\n",
    "while i<=5:\n",
    "    pr=pr*i\n",
    "    i+=1\n",
    "print(\"product is\",pr)"
   ]
  },
  {
   "cell_type": "code",
   "execution_count": 11,
   "id": "01e65bd4-d637-4cd1-84b0-1bddb7d9b31f",
   "metadata": {},
   "outputs": [
    {
     "name": "stdin",
     "output_type": "stream",
     "text": [
      "enter a number: 5\n"
     ]
    },
    {
     "name": "stdout",
     "output_type": "stream",
     "text": [
      "factorial is : 120\n"
     ]
    }
   ],
   "source": [
    "# Q4 Find the factorial of a given number?\n",
    "x=int(input(\"enter a number:\"))\n",
    "fac=1\n",
    "while x>=1:\n",
    "    fac=fac*x\n",
    "    x-=1\n",
    "print(\"factorial is :\",fac)\n",
    "    "
   ]
  },
  {
   "cell_type": "code",
   "execution_count": 12,
   "id": "f83aef80-020e-4068-8319-4611159999b1",
   "metadata": {},
   "outputs": [
    {
     "name": "stdin",
     "output_type": "stream",
     "text": [
      "enter a number: 10\n"
     ]
    },
    {
     "name": "stdout",
     "output_type": "stream",
     "text": [
      "1\n",
      "2\n",
      "5\n",
      "10\n"
     ]
    }
   ],
   "source": [
    "# Q5 Find the all the factors of a given number?\n",
    "x=int(input(\"enter a number:\"))\n",
    "i=1\n",
    "while i<=x:\n",
    "    if x%i==0:\n",
    "        print(i)\n",
    "    i+=1"
   ]
  },
  {
   "cell_type": "code",
   "execution_count": 13,
   "id": "8f132f85-1e66-4c58-a041-43664d343771",
   "metadata": {},
   "outputs": [
    {
     "name": "stdin",
     "output_type": "stream",
     "text": [
      "enter a number: 10\n"
     ]
    },
    {
     "name": "stdout",
     "output_type": "stream",
     "text": [
      "2\n",
      "10\n"
     ]
    }
   ],
   "source": [
    "# Q6 Find all the even factors of a given number?\n",
    "x=int(input(\"enter a number:\"))\n",
    "i=1\n",
    "while i<=x:\n",
    "    if x%i==0:\n",
    "        if i%2==0:\n",
    "            print(i)\n",
    "    i+=1"
   ]
  },
  {
   "cell_type": "code",
   "execution_count": 14,
   "id": "2da65218-850f-4817-b201-f2f9c3a845cd",
   "metadata": {},
   "outputs": [
    {
     "name": "stdin",
     "output_type": "stream",
     "text": [
      "enter a number: 10\n"
     ]
    },
    {
     "name": "stdout",
     "output_type": "stream",
     "text": [
      "sum of factors is 18\n"
     ]
    }
   ],
   "source": [
    "# Q7 Find the sum of factors of a given number?\n",
    "x=int(input(\"enter a number:\"))\n",
    "i=1\n",
    "sum=0\n",
    "while i<=x:\n",
    "    if x%i==0:\n",
    "        sum=sum+i\n",
    "    i+=1\n",
    "print(\"sum of factors is\",sum)"
   ]
  },
  {
   "cell_type": "code",
   "execution_count": 18,
   "id": "2b227ee7-de93-4ff8-a3c7-48fa2629ee3e",
   "metadata": {},
   "outputs": [
    {
     "name": "stdin",
     "output_type": "stream",
     "text": [
      "enter a number: 7\n"
     ]
    },
    {
     "name": "stdout",
     "output_type": "stream",
     "text": [
      "number is prime\n"
     ]
    }
   ],
   "source": [
    "# Q8 Check weather a given number is prime or not?\n",
    "x=int(input(\"enter a number:\"))\n",
    "cunt=0\n",
    "i=1\n",
    "while i<=x:\n",
    "    if x%i==0:\n",
    "        cunt=cunt+1\n",
    "    i+=1\n",
    "if cunt==2:\n",
    "    print(\"number is prime\")\n",
    "else:\n",
    "    print(\"number is not prime\")"
   ]
  },
  {
   "cell_type": "code",
   "execution_count": 19,
   "id": "d34d2d85-ad02-4658-9866-12de67439fe2",
   "metadata": {},
   "outputs": [
    {
     "name": "stdin",
     "output_type": "stream",
     "text": [
      "enter a number: 6\n"
     ]
    },
    {
     "name": "stdout",
     "output_type": "stream",
     "text": [
      "number is perfect\n"
     ]
    }
   ],
   "source": [
    "# Q9 Check weather a given number is perfect or not?\n",
    "x=int(input(\"enter a number:\"))\n",
    "sum=0\n",
    "i=1\n",
    "while i<x:\n",
    "    if x%i==0:\n",
    "        sum=sum+i\n",
    "    i+=1\n",
    "if sum==x:\n",
    "    print(\"number is perfect\")\n",
    "else:\n",
    "    print(\"number is not perfect\")"
   ]
  },
  {
   "cell_type": "code",
   "execution_count": 21,
   "id": "ce971b47-0b2c-488e-a96a-62b43637af12",
   "metadata": {},
   "outputs": [
    {
     "name": "stdin",
     "output_type": "stream",
     "text": [
      "enter a number: 123\n"
     ]
    },
    {
     "name": "stdout",
     "output_type": "stream",
     "text": [
      "6\n"
     ]
    }
   ],
   "source": [
    "# Q10 Find the sum of digits of a given number?\n",
    "x=int(input(\"enter a number:\"))\n",
    "y=0\n",
    "while x>0:\n",
    "    r=x%10\n",
    "    y=y+r\n",
    "    x=x//10\n",
    "print(\"sum of digits is\",y)\n",
    "    "
   ]
  },
  {
   "cell_type": "code",
   "execution_count": 22,
   "id": "13e58995-5983-40b8-b81b-bce70a13c652",
   "metadata": {},
   "outputs": [
    {
     "name": "stdin",
     "output_type": "stream",
     "text": [
      "enter a number: 12345\n"
     ]
    },
    {
     "name": "stdout",
     "output_type": "stream",
     "text": [
      "the count of digits is 5\n"
     ]
    }
   ],
   "source": [
    "# Q11 Count total number of a digits in a given number?\n",
    "x=int(input(\"enter a number:\"))\n",
    "z=0\n",
    "while x>0:\n",
    "    r=x%10\n",
    "    z=z+1\n",
    "    x=x//10\n",
    "print(\"the count of digits is\",z)"
   ]
  },
  {
   "cell_type": "code",
   "execution_count": 23,
   "id": "0af01f87-aacd-42b6-9f12-ac4e3091c2d5",
   "metadata": {},
   "outputs": [
    {
     "name": "stdin",
     "output_type": "stream",
     "text": [
      "enter a number: 321\n"
     ]
    },
    {
     "name": "stdout",
     "output_type": "stream",
     "text": [
      "123\n"
     ]
    }
   ],
   "source": [
    "# Q12 Find the reverse of a given number?\n",
    "x=int(input(\"enter a number:\"))\n",
    "rev=0\n",
    "while x>0:\n",
    "    r=x%10\n",
    "    rev=rev*10+r\n",
    "    x=x//10\n",
    "print(rev)"
   ]
  },
  {
   "cell_type": "code",
   "execution_count": 25,
   "id": "1f8298b5-3104-43a0-94c2-e3dcde076670",
   "metadata": {},
   "outputs": [
    {
     "name": "stdin",
     "output_type": "stream",
     "text": [
      "enter a number: 153\n"
     ]
    },
    {
     "name": "stdout",
     "output_type": "stream",
     "text": [
      "given number is armstrong\n"
     ]
    }
   ],
   "source": [
    "# Q13 Check weather a given three digit number is armstrong or not?\n",
    "x=int(input(\"enter a number:\"))\n",
    "y=x\n",
    "z=0\n",
    "while y>0:\n",
    "    r=y%10\n",
    "    z=r**3 +z\n",
    "    y=y//10\n",
    "if x==z:\n",
    "    print(\"given number is armstrong\")\n",
    "else:\n",
    "    print(\"number is not armstrong\")"
   ]
  },
  {
   "cell_type": "code",
   "execution_count": 26,
   "id": "5fdcbc41-73f3-4ba6-8d5b-c4d5e6118867",
   "metadata": {},
   "outputs": [
    {
     "name": "stdin",
     "output_type": "stream",
     "text": [
      "enter a first number: 10\n",
      "enter a second number: 20\n"
     ]
    },
    {
     "name": "stdout",
     "output_type": "stream",
     "text": [
      "11 is prime number\n",
      "13 is prime number\n",
      "17 is prime number\n",
      "19 is prime number\n"
     ]
    }
   ],
   "source": [
    "# Q14 Find all the prime number between two number?\n",
    "x=int(input(\"enter a first number:\"))\n",
    "y=int(input(\"enter a second number:\"))\n",
    "while x<=y:\n",
    "    i=1\n",
    "    cunt=0\n",
    "    while i<=x:\n",
    "        if x%i==0:\n",
    "            cunt=cunt+1\n",
    "        i+=1\n",
    "    if cunt==2:\n",
    "        print(x,\"is prime number\")\n",
    "    x+=1"
   ]
  },
  {
   "cell_type": "code",
   "execution_count": 30,
   "id": "5d33a331-c9df-4cae-87b7-396ca8a395b2",
   "metadata": {},
   "outputs": [
    {
     "name": "stdin",
     "output_type": "stream",
     "text": [
      "enter a first number: 232\n"
     ]
    },
    {
     "name": "stdout",
     "output_type": "stream",
     "text": [
      "number is pallindrome\n"
     ]
    }
   ],
   "source": [
    "# Q15 Check weather a given number is pallindrome or not?\n",
    "x=int(input(\"enter a first number:\"))\n",
    "y=x\n",
    "rev=0\n",
    "while y>0:\n",
    "    r=y%10\n",
    "    rev=rev*10 + r\n",
    "    y=y//10\n",
    "if rev==x:\n",
    "    print(\"number is pallindrome\")\n",
    "else:\n",
    "    print(\"number is not pallindrome\")"
   ]
  },
  {
   "cell_type": "code",
   "execution_count": null,
   "id": "9124a855-dd32-43e1-8de1-2a1bf77bbcd8",
   "metadata": {},
   "outputs": [],
   "source": []
  }
 ],
 "metadata": {
  "kernelspec": {
   "display_name": "Python 3 (ipykernel)",
   "language": "python",
   "name": "python3"
  },
  "language_info": {
   "codemirror_mode": {
    "name": "ipython",
    "version": 3
   },
   "file_extension": ".py",
   "mimetype": "text/x-python",
   "name": "python",
   "nbconvert_exporter": "python",
   "pygments_lexer": "ipython3",
   "version": "3.11.7"
  }
 },
 "nbformat": 4,
 "nbformat_minor": 5
}
